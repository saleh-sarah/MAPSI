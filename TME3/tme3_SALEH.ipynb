{
 "cells": [
  {
   "cell_type": "markdown",
   "metadata": {},
   "source": [
    "# Apprentissage de paramètres par maximum de vraisemblance\n",
    "Dans ce TME, l'objectif est d'apprendre grâce à l'estimateur de maximum de vraisemblance les paramètres de lois normales à partir d'un ensemble de données. Ces lois normales seront ensuite exploitées pour faire de la classification (comme nous l'avions vu en cours avec les images de désert, forêt, mer et paysages enneigés).\n",
    "\n",
    "Ici, notre base de données d'apprentissage est la base USPS. Celle-ci contient les images réelles de chiffres provenant de codes postaux écrits manuellement et scannés par le service des postes américain. Ces données scannées ont été normalisées de manière à ce qu'elles soient toutes des images de 16x16 pixels en teintes de gris, cf. Le Cun et al., 1990:\n",
    "\n",
    "Y. LeCun, O. Matan, B. Boser, J. S. Denker, et al. (1990) *Handwritten zip code recognition with multilayer networks*. In ICPR, volume II, pages 35–40.\n",
    "\n",
    "Voici quelques exemples d'images de cette base : \n",
    "\n",
    "<img src=\"tme3_digit4.jpg\" title=\"4 à la main\">&nbsp;<img src=\"tme3_digit5.jpg\" title=\"5 à la main\">&nbsp;<img src=\"tme3_digit8.jpg\" title=\"8 à la main\">\n",
    "\n",
    "## Préparation / visualisation\n",
    "\n",
    "Ne perdez pas de temps à essayer de comprendre les instructions de ces fonctions. Leur utilité est décrite en dessous du code. "
   ]
  },
  {
   "cell_type": "code",
   "execution_count": 1,
   "metadata": {},
   "outputs": [],
   "source": [
    "import numpy as np\n",
    "import matplotlib.pyplot as plt\n",
    "\n",
    "def read_file ( filename ):\n",
    "    \"\"\"\n",
    "    Lit un fichier USPS et renvoie un tableau de tableaux d'images.\n",
    "    Chaque image est un tableau de nombres réels.\n",
    "    Chaque tableau d'images contient des images de la même classe.\n",
    "    Ainsi, T = read_file ( \"fichier\" ) est tel que T[0] est le tableau\n",
    "    des images de la classe 0, T[1] contient celui des images de la classe 1,\n",
    "    et ainsi de suite.\n",
    "    \"\"\"\n",
    "    # lecture de l'en-tête\n",
    "    infile = open ( filename, \"r\" )    \n",
    "    nb_classes, nb_features = [ int( x ) for x in infile.readline().split() ]\n",
    "\n",
    "    # creation de la structure de données pour sauver les images :\n",
    "    # c'est un tableau de listes (1 par classe)\n",
    "    data = np.empty ( 10, dtype=object )  \n",
    "    filler = np.frompyfunc(lambda x: list(), 1, 1)\n",
    "    filler( data, data )\n",
    "\n",
    "    # lecture des images du fichier et tri, classe par classe\n",
    "    for ligne in infile:\n",
    "        champs = ligne.split ()\n",
    "        if len ( champs ) == nb_features + 1:\n",
    "            classe = int ( champs.pop ( 0 ) )\n",
    "            data[classe].append ( list ( map ( lambda x: float(x), champs ) ) )\n",
    "    infile.close ()\n",
    "\n",
    "    # transformation des list en array\n",
    "    output  = np.empty ( 10, dtype=object )\n",
    "    filler2 = np.frompyfunc(lambda x: np.asarray (x), 1, 1)\n",
    "    filler2 ( data, output )\n",
    "\n",
    "    return output\n",
    "\n",
    "def display_image ( X ):\n",
    "    \"\"\"\n",
    "    Etant donné un tableau X de 256 flotants représentant une image de 16x16\n",
    "    pixels, la fonction affiche cette image dans une fenêtre.\n",
    "    \"\"\"\n",
    "    # on teste que le tableau contient bien 256 valeurs\n",
    "    if X.size != 256:\n",
    "        raise ValueError ( \"Les images doivent être de 16x16 pixels\" )\n",
    "\n",
    "    # on crée une image pour imshow: chaque pixel est un tableau à 3 valeurs\n",
    "    # (1 pour chaque canal R,G,B). Ces valeurs sont entre 0 et 1\n",
    "    Y = X / X.max ()\n",
    "    img = np.zeros ( ( Y.size, 3 ) )\n",
    "    for i in range ( 3 ):\n",
    "        img[:,i] = Y\n",
    "\n",
    "    # on indique que toutes les images sont de 16x16 pixels\n",
    "    img.shape = (16,16,3)\n",
    "\n",
    "    # affichage de l'image\n",
    "    plt.imshow( img )\n",
    "    plt.show ()"
   ]
  },
  {
   "cell_type": "markdown",
   "metadata": {},
   "source": [
    "Nous utiliserons la base `usps_train.txt`. La fonction `read-file:str->float np.array np.array` ci-dessus permet de lire ce fichier. La fonction renvoie un tableaux d'images vérifiant :\n",
    "- Chaque image a une taille de 16x16 pixels et représente un chiffre entre 0 et 9 (comme les images ci-dessus).\n",
    "- Chaque image est modélisée par un tableau numpy de 256 nombres réels compris entre 0 et 2, qui caractérisent l'intensité des pixels dans l'image ($16x16 = 256$ pixels). \n",
    "- Les images correspondant au même chiffre manuscript (0,...,9) sont placées dans un même tableau. Le fichier `usps` indique en effet pour chaque image à quel chiffre celle-ci correspond. Dans le jargon de l'apprentissage, les chiffres sont appelés classes et, lorsque nous aurons de nouvelles images dont nous essayerons de déterminer, grâce à nos lois normales, à quel chiffre elles correspondent, nous dirons que nous faisons de la classification. Enfin, apprendre les paramètres de nos lois normales à partir d'un fichier qui contient pour chaque image sa classe s'appelle de l'apprentissage supervisé.\n",
    "- Pour terminer la description de l'objet retourné par la fonction `read_file`, les tableaux d'images correspondant à chaque chiffre sont eux-mêmes stockés dans un tableau et c'est ce dernier qui est renvoyé. Chaque élément de ce tableau correspond donc à l'ensemble des images d'une classe. Le premier élément contient ainsi toutes les images du chiffre 0, le 2ème toutes celles du chiffre 1, et ainsi de suite. Par exemple, si `read_file(\"fichier\")` retourne un objet `training_data`, alors `training_data[2]` est le tableau de toutes les images du chiffre 2, et `training_data[2][3]` correspond à la 4ème image du chiffre 2 (les indices des tableaux débutant à 0), autrement dit à un tableau de $256$ nombres réels représentant cette image. \n",
    "\n",
    "La fonction `display_image`, quant à elle, permet de visualiser les images que vous allez manipuler. Celle-ci prend donc en argument une image (c'est-à-dire un tableau de 256 nombres réels) et l'affiche dans une fenêtre. Exécutez cette fonction sur quelques images de votre base d'apprentissage afin de visualiser les données que vous allez manipuler par la suite. Par exemple, vous pouvez tester: "
   ]
  },
  {
   "cell_type": "code",
   "execution_count": 2,
   "metadata": {},
   "outputs": [
    {
     "data": {
      "image/png": "[encoded data removed]",
      "text/plain": [
       "<Figure size 432x288 with 1 Axes>"
      ]
     },
     "metadata": {
      "needs_background": "light"
     },
     "output_type": "display_data"
    },
    {
     "data": {
      "image/png": "[encoded data removed]",
      "text/plain": [
       "<Figure size 432x288 with 1 Axes>"
      ]
     },
     "metadata": {
      "needs_background": "light"
     },
     "output_type": "display_data"
    }
   ],
   "source": [
    "training_data = read_file ( \"usps_train.txt\" )\n",
    "\n",
    "# affichage du 1er chiffre \"2\" de la base:\n",
    "display_image ( training_data[2][0] )\n",
    "\n",
    "# affichage du 5ème chiffre \"3\" de la base:\n",
    "display_image ( training_data[3][4] )"
   ]
  },
  {
   "cell_type": "markdown",
   "metadata": {},
   "source": [
    "1- Maximum de vraisemblance pour une classe\n",
    "Nous allons étudier la distribution de probabilité des teintes de gris des images (en fait, nous allons étudier sa fonction de densité car on travaille sur des variables aléatoires continues) . Nous allons faire l'hypothèse (certes un peu forte mais tellement pratique) que, dans chaque classe, les teintes des pixels sont mutuellement indépendantes. \n",
    "\n",
    "Autrement dit, si $X_i, i\\in \\{0,...,255\\}$ représente la variable aléatoire \"intensité de gris du ième pixel\", alors $p(X_0,…,X_{255})$ représente la fonction de densité des teintes de gris des images de la classe et: \n",
    "\n",
    "$$p(X_0,,…,X_{255})=\\prod_{i=0}^{255} p(X_i)$$\n",
    "\n",
    "Ainsi, en choisissant au hasard une image dans l'ensemble de toutes les images possibles de la classe, si celle-ci correspond au tableau `np.array([x_0,...,x_255])`, où les $x_i$ sont des nombres réels compris entre 0 et 2, alors la valeur de la fonction de densité de l'image est égale à $p(x_0,...,x_{255}) = \\prod^{255}_{i=0}p(x_i)$. \n",
    "\n",
    "Nous allons de plus supposer que chaque $X_i$ suit une distribution normale de paramètres $(μ_i,σ^2_i)$. Autrement dit, $$\\forall i\\in\\{0,...,255\\}, X_i \\sim {\\cal N}(μ_i,σ^2_i)$$ \n",
    "\n",
    "Par maximum de vraisemblance, estimez, pour une classe donnée, l'ensemble des paramètres $(μ_0,…,μ_{255}) et (σ^2_0,…,σ^2_{255})$. Pour cela, écrivez une fonction `learnML_class_parameters : float np.array np.array -> float np.array x float np.array` qui, étant donné le tableau d'images d'une classe tel que retourné par la fonction read_file (autrement dit un tableau de tableaux de 256 nombres réels), renvoie un couple de tableaux, le premier élément du couple correspondant à l'ensemble des $μ_i$ et le 2ème à l'ensemble des $σ^2_i$. C'est-à-dire que `learnML_class_parameters ( classe )` renverra un objet similaire à :\n",
    "\n",
    "```( array ( [μ0,…,μ255] ), array ( [σ20,…,σ2255] ) )```\n",
    "\n",
    "Grâce à votre fonction `learnML_class_parameters`, vous pourrez ainsi vérifier que, en utilisant `learnML_class_parameters ( training_data[0] )`, vous allez pouvoir calculer le tableau de paramètres suivant~:\n",
    "\n",
    "```\n",
    " (array([ 1.37185930e-03,   4.60217755e-03,   1.50770519e-02,\n",
    "          5.87487437e-02,   1.66657454e-01,   4.28577052e-01,\n",
    "          8.68415410e-01,   1.15260804e+00,   1.04628392e+00,\n",
    "          6.46298995e-01,   2.58751256e-01,   7.90837521e-02,\n",
    "          ...............................\n",
    "          1.28302848e+00,   1.52802513e+00,   1.43905193e+00,\n",
    "          1.04248827e+00,   5.32985762e-01,   1.74494137e-01,\n",
    "          3.24891122e-02,   3.47487437e-03,   6.36515913e-05,\n",
    "          0.00000000e+00]), \n",
    "  array([ 2.24522353e-03,   6.60664324e-03,   1.95906222e-02,\n",
    "          6.29011999e-02,   1.80366523e-01,   3.72113773e-01,\n",
    "          5.31683397e-01,   5.38201451e-01,   5.62586277e-01,\n",
    "          4.57620803e-01,   2.35928060e-01,   8.26775407e-02,\n",
    "          ...............................\n",
    "          4.46902042e-01,   3.40271867e-01,   1.30177809e-01,\n",
    "          2.49171310e-02,   1.77752743e-03,   4.23882955e-06,\n",
    "          0.00000000e+00] ) )\n",
    "```\n",
    "\n",
    "et `learnML_class_parameters ( training_data[1] )` devrait rendre\n",
    "```\n",
    " (array([ 0.00000000e+00,   0.00000000e+00,   0.00000000e+00,\n",
    "          0.00000000e+00,   3.98009950e-06,   1.27223881e-02,\n",
    "          3.64843781e-01,   1.47724776e+00,   9.99703483e-01,\n",
    "          1.18331343e-01,   4.97313433e-03,   0.00000000e+00,\n",
    "          ...............................\n",
    "          4.32477612e-01,   3.99064677e-02,   3.73731343e-03,\n",
    "          6.62686567e-04,   4.67661692e-04,   0.00000000e+00,\n",
    "          0.00000000e+00]), \n",
    "  array([ 0.00000000e+00,   0.00000000e+00,   0.00000000e+00,\n",
    "          0.00000000e+00,   1.59045568e-08,   7.47939656e-03,\n",
    "          2.52206480e-01,   2.13186449e-01,   3.40351753e-01,\n",
    "          7.76266554e-02,   3.64318435e-03,   0.00000000e+00,\n",
    "          ...............................\n",
    "          3.20651061e-01,   4.13332529e-02,   4.10675488e-03,\n",
    "          4.40910100e-04,   2.19582288e-04,   0.00000000e+00,\n",
    "          0.00000000e+00] ) )\n",
    "```"
   ]
  },
  {
   "cell_type": "code",
   "execution_count": 3,
   "metadata": {},
   "outputs": [],
   "source": [
    "def learnML_class_parameters(classe):\n",
    "    # votre code\n",
    "    mu = []\n",
    "    sigma = []\n",
    "    for p in range(256):\n",
    "        moy = 0\n",
    "        si = 0\n",
    "        for c in classe :\n",
    "            moy += c[p]\n",
    "        moy = moy / len(classe)\n",
    "        mu.append(moy)\n",
    "        for c in classe :\n",
    "                si += (c[p] - moy)**2\n",
    "        si = si / len(classe)\n",
    "        sigma.append(si)\n",
    "    return (np.array(mu), np.array(sigma))\n",
    "        "
   ]
  },
  {
   "cell_type": "code",
   "execution_count": 4,
   "metadata": {},
   "outputs": [
    {
     "data": {
      "text/plain": [
       "(array([1.37185930e-03, 4.60217755e-03, 1.50770519e-02, 5.87487437e-02,\n",
       "        1.66657454e-01, 4.28577052e-01, 8.68415410e-01, 1.15260804e+00,\n",
       "        1.04628392e+00, 6.46298995e-01, 2.58751256e-01, 7.90837521e-02,\n",
       "        1.49748744e-02, 2.81742044e-03, 6.53266332e-05, 0.00000000e+00,\n",
       "        1.76549414e-03, 6.53433836e-03, 5.00293132e-02, 1.88505863e-01,\n",
       "        5.10424623e-01, 1.06171608e+00, 1.52639280e+00, 1.68250000e+00,\n",
       "        1.63088945e+00, 1.39957621e+00, 9.51082915e-01, 4.20636516e-01,\n",
       "        1.27508375e-01, 3.08886097e-02, 3.20016750e-03, 5.02512563e-06,\n",
       "        3.31825796e-03, 2.71273032e-02, 1.36604690e-01, 4.37097152e-01,\n",
       "        9.42998325e-01, 1.43772194e+00, 1.62785260e+00, 1.61645645e+00,\n",
       "        1.55001340e+00, 1.51951173e+00, 1.37973953e+00, 9.38602178e-01,\n",
       "        4.34310720e-01, 1.22752094e-01, 2.15100503e-02, 1.88525963e-03,\n",
       "        6.25460637e-03, 6.85695142e-02, 3.10753769e-01, 7.81501675e-01,\n",
       "        1.29654858e+00, 1.53751340e+00, 1.44771859e+00, 1.21163149e+00,\n",
       "        1.09101340e+00, 1.21372362e+00, 1.39326382e+00, 1.26515327e+00,\n",
       "        8.27990787e-01, 3.51226131e-01, 7.92169179e-02, 5.94974874e-03,\n",
       "        2.20075377e-02, 1.78377722e-01, 5.80758794e-01, 1.09449414e+00,\n",
       "        1.46405611e+00, 1.44884757e+00, 1.13969012e+00, 8.10924623e-01,\n",
       "        6.09801508e-01, 7.61168342e-01, 1.11324456e+00, 1.31300670e+00,\n",
       "        1.12591374e+00, 6.63459799e-01, 2.38768844e-01, 2.99723618e-02,\n",
       "        5.32160804e-02, 3.70207705e-01, 8.51206030e-01, 1.30968174e+00,\n",
       "        1.46998325e+00, 1.23364992e+00, 8.13315745e-01, 4.27463987e-01,\n",
       "        2.58606365e-01, 3.97094640e-01, 7.84355946e-01, 1.17078894e+00,\n",
       "        1.24475042e+00, 9.26896147e-01, 4.63780570e-01, 8.46700168e-02,\n",
       "        1.32054439e-01, 5.86725293e-01, 1.05648911e+00, 1.40187270e+00,\n",
       "        1.36071106e+00, 9.74191792e-01, 5.18882747e-01, 1.95938023e-01,\n",
       "        1.01211055e-01, 1.80870184e-01, 5.11309045e-01, 9.73348409e-01,\n",
       "        1.23628894e+00, 1.08193635e+00, 6.74772194e-01, 1.86815745e-01,\n",
       "        2.48298995e-01, 7.50453099e-01, 1.18348911e+00, 1.39500921e+00,\n",
       "        1.18889615e+00, 7.34864322e-01, 3.17774707e-01, 9.08584590e-02,\n",
       "        3.88735343e-02, 9.47445561e-02, 3.64322446e-01, 8.38103853e-01,\n",
       "        1.20266080e+00, 1.15844891e+00, 8.05174204e-01, 3.03298995e-01,\n",
       "        3.52067839e-01, 8.47980737e-01, 1.25309380e+00, 1.34806700e+00,\n",
       "        1.05766415e+00, 5.70534338e-01, 1.89631491e-01, 4.03400335e-02,\n",
       "        1.17219430e-02, 6.59790620e-02, 3.12587940e-01, 7.93288107e-01,\n",
       "        1.18481575e+00, 1.20578894e+00, 8.71306533e-01, 3.76610553e-01,\n",
       "        3.86878559e-01, 8.97530988e-01, 1.29297404e+00, 1.31548911e+00,\n",
       "        9.67963987e-01, 4.61340871e-01, 1.20640704e-01, 1.88626466e-02,\n",
       "        9.90954774e-03, 7.27353434e-02, 3.38711055e-01, 8.50084590e-01,\n",
       "        1.23256784e+00, 1.24436935e+00, 8.79540201e-01, 3.64832496e-01,\n",
       "        3.20805695e-01, 8.75839196e-01, 1.30576214e+00, 1.34223116e+00,\n",
       "        9.57586265e-01, 4.25780570e-01, 1.14139866e-01, 3.40829146e-02,\n",
       "        4.22211055e-02, 1.43154941e-01, 4.95811558e-01, 1.02544221e+00,\n",
       "        1.36323199e+00, 1.24886600e+00, 8.18149079e-01, 2.71222781e-01,\n",
       "        1.76169179e-01, 7.36791457e-01, 1.27515494e+00, 1.43617588e+00,\n",
       "        1.09984255e+00, 5.31402010e-01, 2.03934673e-01, 1.30096315e-01,\n",
       "        1.83367672e-01, 3.96876884e-01, 8.53439698e-01, 1.33558543e+00,\n",
       "        1.48892462e+00, 1.16248827e+00, 6.32438023e-01, 1.32100503e-01,\n",
       "        5.24773869e-02, 4.50806533e-01, 1.07741206e+00, 1.50525544e+00,\n",
       "        1.41234925e+00, 9.13100503e-01, 5.24206030e-01, 4.62355109e-01,\n",
       "        6.06525126e-01, 9.49030988e-01, 1.38388358e+00, 1.61753518e+00,\n",
       "        1.42662563e+00, 8.88922948e-01, 3.34587940e-01, 3.15778894e-02,\n",
       "        6.02680067e-03, 1.40818258e-01, 6.22611390e-01, 1.28385260e+00,\n",
       "        1.64298827e+00, 1.53982747e+00, 1.26712060e+00, 1.20476047e+00,\n",
       "        1.36249832e+00, 1.59526298e+00, 1.73646147e+00, 1.55646817e+00,\n",
       "        1.02170938e+00, 4.29278057e-01, 8.86582915e-02, 5.40787270e-03,\n",
       "        1.17252931e-03, 1.58232831e-02, 1.51080402e-01, 5.94675879e-01,\n",
       "        1.25131575e+00, 1.69569598e+00, 1.80123869e+00, 1.80037521e+00,\n",
       "        1.82124288e+00, 1.78654941e+00, 1.52453434e+00, 9.49521776e-01,\n",
       "        3.75442211e-01, 8.13308208e-02, 8.08458961e-03, 1.55946399e-03,\n",
       "        3.37520938e-04, 2.01088777e-03, 8.97236181e-03, 7.10644891e-02,\n",
       "        2.97289782e-01, 7.79567839e-01, 1.28302848e+00, 1.52802513e+00,\n",
       "        1.43905193e+00, 1.04248827e+00, 5.32985762e-01, 1.74494137e-01,\n",
       "        3.24891122e-02, 3.47487437e-03, 6.36515913e-05, 0.00000000e+00]),\n",
       " array([2.24522353e-03, 6.60664324e-03, 1.95906222e-02, 6.29011999e-02,\n",
       "        1.80366523e-01, 3.72113773e-01, 5.31683397e-01, 5.38201451e-01,\n",
       "        5.62586277e-01, 4.57620803e-01, 2.35928060e-01, 8.26775407e-02,\n",
       "        1.21866074e-02, 2.34500854e-03, 2.24866375e-06, 0.00000000e+00,\n",
       "        2.64368538e-03, 6.10332085e-03, 5.44480636e-02, 2.28699335e-01,\n",
       "        4.99539239e-01, 6.43595944e-01, 4.85095565e-01, 3.52517912e-01,\n",
       "        3.92059077e-01, 5.69756780e-01, 6.52171790e-01, 4.12885044e-01,\n",
       "        1.49015927e-01, 3.34867723e-02, 2.23359394e-03, 3.01255019e-08,\n",
       "        5.19968933e-03, 3.14043406e-02, 1.64719909e-01, 4.76196041e-01,\n",
       "        6.88212975e-01, 5.41123797e-01, 3.90035848e-01, 3.87944404e-01,\n",
       "        4.51420740e-01, 4.54064831e-01, 5.59375281e-01, 6.76378581e-01,\n",
       "        4.55974174e-01, 1.47167160e-01, 2.15743605e-02, 1.55225065e-03,\n",
       "        4.14250134e-03, 8.31338097e-02, 3.52827730e-01, 6.87769831e-01,\n",
       "        6.40531551e-01, 4.74022322e-01, 5.59609015e-01, 6.87582449e-01,\n",
       "        7.09481690e-01, 6.50216433e-01, 5.17249956e-01, 6.13797314e-01,\n",
       "        6.91550853e-01, 3.87535977e-01, 9.27101699e-02, 5.11671607e-03,\n",
       "        1.91233659e-02, 2.04962865e-01, 6.06350315e-01, 7.29078317e-01,\n",
       "        5.29251448e-01, 5.57118139e-01, 7.30181544e-01, 7.09741788e-01,\n",
       "        6.18131606e-01, 6.85331627e-01, 7.08739024e-01, 5.67723394e-01,\n",
       "        6.85781330e-01, 6.56826131e-01, 2.70169347e-01, 2.48777237e-02,\n",
       "        4.40481258e-02, 4.17525094e-01, 7.41893314e-01, 6.37627934e-01,\n",
       "        5.36785559e-01, 6.98134899e-01, 7.28897925e-01, 4.73820299e-01,\n",
       "        3.25244359e-01, 4.42922354e-01, 6.79086348e-01, 6.76498667e-01,\n",
       "        6.25518001e-01, 7.46144175e-01, 5.10758201e-01, 7.60489615e-02,\n",
       "        1.12609804e-01, 6.31231461e-01, 7.67757389e-01, 5.87261141e-01,\n",
       "        6.27632746e-01, 7.45198934e-01, 5.83229182e-01, 2.44287010e-01,\n",
       "        1.38475357e-01, 2.20308167e-01, 5.50093421e-01, 7.27105493e-01,\n",
       "        6.41940748e-01, 7.08320788e-01, 6.94365632e-01, 1.72761961e-01,\n",
       "        2.33717525e-01, 7.54848268e-01, 7.24540032e-01, 5.93773296e-01,\n",
       "        7.25387530e-01, 7.21589126e-01, 3.80151193e-01, 1.17049872e-01,\n",
       "        4.31629463e-02, 1.15382993e-01, 4.33837232e-01, 7.16430277e-01,\n",
       "        6.73343080e-01, 6.83425961e-01, 7.76693496e-01, 2.89046094e-01,\n",
       "        3.50143271e-01, 7.94004444e-01, 6.71068418e-01, 6.36107317e-01,\n",
       "        7.72656123e-01, 6.21493569e-01, 2.35721579e-01, 5.07564271e-02,\n",
       "        1.20298356e-02, 7.15366855e-02, 3.84244187e-01, 7.07381026e-01,\n",
       "        6.92010050e-01, 6.60848128e-01, 7.88671667e-01, 3.77639377e-01,\n",
       "        3.85453159e-01, 7.96653182e-01, 6.38708266e-01, 6.40064369e-01,\n",
       "        7.73154301e-01, 5.24443434e-01, 1.50805867e-01, 2.04086378e-02,\n",
       "        9.21239215e-03, 8.39245598e-02, 4.09731584e-01, 7.27420833e-01,\n",
       "        6.72667865e-01, 6.51343035e-01, 7.83557111e-01, 3.63236474e-01,\n",
       "        3.08245992e-01, 7.78624964e-01, 6.37423300e-01, 5.98016017e-01,\n",
       "        7.50765348e-01, 4.82708061e-01, 1.46813586e-01, 4.05543474e-02,\n",
       "        5.44087015e-02, 1.69895741e-01, 5.24522143e-01, 7.39755000e-01,\n",
       "        5.88508845e-01, 6.63348887e-01, 7.53951701e-01, 2.56449766e-01,\n",
       "        1.47593263e-01, 6.97857926e-01, 6.63879804e-01, 5.34052250e-01,\n",
       "        6.96082243e-01, 5.52851679e-01, 2.56729284e-01, 1.76185147e-01,\n",
       "        2.25332767e-01, 4.34228847e-01, 6.92059670e-01, 6.06767985e-01,\n",
       "        4.96949420e-01, 7.10538823e-01, 6.17576926e-01, 1.08324997e-01,\n",
       "        3.41545141e-02, 4.55658561e-01, 6.98377984e-01, 4.74166157e-01,\n",
       "        5.26808505e-01, 6.68390628e-01, 5.35831968e-01, 5.01632217e-01,\n",
       "        5.96725353e-01, 6.71880338e-01, 5.83587900e-01, 3.85821515e-01,\n",
       "        5.48302743e-01, 7.10485997e-01, 3.40957676e-01, 2.11149676e-02,\n",
       "        2.94994568e-03, 1.31128933e-01, 5.52261202e-01, 6.03320745e-01,\n",
       "        3.24756754e-01, 4.16133216e-01, 5.74767302e-01, 6.17614402e-01,\n",
       "        5.54165617e-01, 4.03854659e-01, 2.50737426e-01, 4.10822782e-01,\n",
       "        6.55019488e-01, 4.14925166e-01, 7.81115449e-02, 4.62530349e-03,\n",
       "        7.83832880e-04, 1.51375073e-02, 1.35050409e-01, 4.83963236e-01,\n",
       "        5.43943938e-01, 2.92678118e-01, 2.12346631e-01, 2.11085062e-01,\n",
       "        1.99897341e-01, 2.45083256e-01, 4.35702297e-01, 5.95863439e-01,\n",
       "        3.32083697e-01, 7.24212683e-02, 5.10776923e-03, 2.19946589e-03,\n",
       "        9.47009875e-05, 2.20025030e-03, 6.09510560e-03, 5.49872329e-02,\n",
       "        2.15674529e-01, 4.17635024e-01, 4.38683451e-01, 4.05881790e-01,\n",
       "        4.20528058e-01, 4.46902042e-01, 3.40271867e-01, 1.30177809e-01,\n",
       "        2.49171310e-02, 1.77752743e-03, 4.23882955e-06, 0.00000000e+00]))"
      ]
     },
     "execution_count": 4,
     "metadata": {},
     "output_type": "execute_result"
    }
   ],
   "source": [
    "learnML_class_parameters ( training_data[0] )"
   ]
  },
  {
   "cell_type": "code",
   "execution_count": 5,
   "metadata": {},
   "outputs": [
    {
     "data": {
      "text/plain": [
       "(array([0.00000000e+00, 0.00000000e+00, 0.00000000e+00, 0.00000000e+00,\n",
       "        3.98009950e-06, 1.27223881e-02, 3.64843781e-01, 1.47724776e+00,\n",
       "        9.99703483e-01, 1.18331343e-01, 4.97313433e-03, 0.00000000e+00,\n",
       "        0.00000000e+00, 0.00000000e+00, 0.00000000e+00, 0.00000000e+00,\n",
       "        0.00000000e+00, 0.00000000e+00, 0.00000000e+00, 0.00000000e+00,\n",
       "        1.11442786e-04, 2.29164179e-02, 4.97605970e-01, 1.80326368e+00,\n",
       "        1.68735622e+00, 3.85793035e-01, 2.02776119e-02, 3.90049751e-04,\n",
       "        0.00000000e+00, 0.00000000e+00, 0.00000000e+00, 0.00000000e+00,\n",
       "        0.00000000e+00, 0.00000000e+00, 0.00000000e+00, 0.00000000e+00,\n",
       "        1.14427861e-03, 2.39064677e-02, 5.16177114e-01, 1.84452239e+00,\n",
       "        1.83539502e+00, 5.21406965e-01, 3.97134328e-02, 4.73631841e-04,\n",
       "        0.00000000e+00, 0.00000000e+00, 0.00000000e+00, 0.00000000e+00,\n",
       "        0.00000000e+00, 0.00000000e+00, 0.00000000e+00, 5.98009950e-04,\n",
       "        2.14825871e-03, 2.78109453e-02, 5.24138308e-01, 1.84385970e+00,\n",
       "        1.86838109e+00, 6.14009950e-01, 4.70985075e-02, 1.06766169e-03,\n",
       "        0.00000000e+00, 0.00000000e+00, 0.00000000e+00, 0.00000000e+00,\n",
       "        0.00000000e+00, 0.00000000e+00, 0.00000000e+00, 0.00000000e+00,\n",
       "        1.94228856e-03, 3.51333333e-02, 5.61768159e-01, 1.83059005e+00,\n",
       "        1.86354826e+00, 6.62624876e-01, 4.78835821e-02, 2.42786070e-04,\n",
       "        0.00000000e+00, 0.00000000e+00, 0.00000000e+00, 0.00000000e+00,\n",
       "        0.00000000e+00, 0.00000000e+00, 0.00000000e+00, 6.96517413e-06,\n",
       "        2.14427861e-03, 4.49213930e-02, 6.01824876e-01, 1.81740896e+00,\n",
       "        1.84972736e+00, 6.72387065e-01, 4.72199005e-02, 7.26368159e-05,\n",
       "        0.00000000e+00, 0.00000000e+00, 0.00000000e+00, 0.00000000e+00,\n",
       "        0.00000000e+00, 0.00000000e+00, 0.00000000e+00, 0.00000000e+00,\n",
       "        2.55124378e-03, 5.74129353e-02, 6.33664677e-01, 1.81156617e+00,\n",
       "        1.82990547e+00, 6.73622886e-01, 4.55313433e-02, 3.63184080e-04,\n",
       "        0.00000000e+00, 0.00000000e+00, 0.00000000e+00, 0.00000000e+00,\n",
       "        0.00000000e+00, 0.00000000e+00, 0.00000000e+00, 5.97014925e-05,\n",
       "        3.41393035e-03, 6.70258706e-02, 6.67953234e-01, 1.82091940e+00,\n",
       "        1.80986269e+00, 6.54041791e-01, 4.02019900e-02, 1.40298507e-03,\n",
       "        0.00000000e+00, 0.00000000e+00, 0.00000000e+00, 0.00000000e+00,\n",
       "        0.00000000e+00, 0.00000000e+00, 0.00000000e+00, 9.95024876e-07,\n",
       "        4.68457711e-03, 7.93820896e-02, 6.99355224e-01, 1.83060398e+00,\n",
       "        1.79703781e+00, 6.18569154e-01, 4.01283582e-02, 1.58905473e-03,\n",
       "        0.00000000e+00, 0.00000000e+00, 0.00000000e+00, 0.00000000e+00,\n",
       "        0.00000000e+00, 0.00000000e+00, 0.00000000e+00, 0.00000000e+00,\n",
       "        4.17213930e-03, 8.34447761e-02, 7.24445771e-01, 1.85119204e+00,\n",
       "        1.77783980e+00, 5.71395025e-01, 3.32278607e-02, 1.25472637e-03,\n",
       "        0.00000000e+00, 0.00000000e+00, 0.00000000e+00, 0.00000000e+00,\n",
       "        0.00000000e+00, 0.00000000e+00, 0.00000000e+00, 0.00000000e+00,\n",
       "        3.46666667e-03, 8.95542289e-02, 7.63098507e-01, 1.86798706e+00,\n",
       "        1.76652438e+00, 5.25018905e-01, 2.86238806e-02, 7.74129353e-04,\n",
       "        0.00000000e+00, 0.00000000e+00, 0.00000000e+00, 0.00000000e+00,\n",
       "        0.00000000e+00, 0.00000000e+00, 0.00000000e+00, 0.00000000e+00,\n",
       "        2.87462687e-03, 8.54358209e-02, 7.93279602e-01, 1.88621692e+00,\n",
       "        1.76002786e+00, 4.93764179e-01, 2.84467662e-02, 2.14328358e-03,\n",
       "        0.00000000e+00, 0.00000000e+00, 0.00000000e+00, 0.00000000e+00,\n",
       "        0.00000000e+00, 0.00000000e+00, 0.00000000e+00, 0.00000000e+00,\n",
       "        3.98606965e-03, 8.01711443e-02, 7.95461692e-01, 1.90377015e+00,\n",
       "        1.76484378e+00, 4.80737313e-01, 3.10786070e-02, 3.98009950e-03,\n",
       "        2.52437811e-03, 2.52437811e-03, 1.44676617e-03, 1.70149254e-04,\n",
       "        2.75621891e-04, 1.48756219e-03, 2.18905473e-03, 2.58109453e-03,\n",
       "        4.89552239e-03, 6.35044776e-02, 7.57529353e-01, 1.90053433e+00,\n",
       "        1.78204179e+00, 5.12011940e-01, 4.82905473e-02, 4.50945274e-03,\n",
       "        3.98009950e-03, 3.98009950e-03, 3.29751244e-03, 8.98507463e-04,\n",
       "        1.03781095e-03, 3.24875622e-03, 3.92537313e-03, 3.98009950e-03,\n",
       "        4.19004975e-03, 3.57671642e-02, 5.94960199e-01, 1.82664677e+00,\n",
       "        1.80756219e+00, 5.99655721e-01, 5.28915423e-02, 6.81094527e-03,\n",
       "        3.10845771e-03, 2.91641791e-03, 1.04378109e-03, 4.57711443e-05,\n",
       "        5.67164179e-05, 5.99004975e-04, 1.65970149e-03, 2.63283582e-03,\n",
       "        2.04676617e-03, 7.48457711e-03, 1.61020896e-01, 1.15082388e+00,\n",
       "        1.50926965e+00, 4.32477612e-01, 3.99064677e-02, 3.73731343e-03,\n",
       "        6.62686567e-04, 4.67661692e-04, 0.00000000e+00, 0.00000000e+00]),\n",
       " array([0.00000000e+00, 0.00000000e+00, 0.00000000e+00, 0.00000000e+00,\n",
       "        1.59045568e-08, 7.47939656e-03, 2.52206480e-01, 2.13186449e-01,\n",
       "        3.40351753e-01, 7.76266554e-02, 3.64318435e-03, 0.00000000e+00,\n",
       "        0.00000000e+00, 0.00000000e+00, 0.00000000e+00, 0.00000000e+00,\n",
       "        0.00000000e+00, 0.00000000e+00, 0.00000000e+00, 0.00000000e+00,\n",
       "        1.24691725e-05, 1.57625363e-02, 3.32385692e-01, 1.06431613e-01,\n",
       "        1.57547378e-01, 2.85559977e-01, 2.01608115e-02, 8.65403985e-05,\n",
       "        0.00000000e+00, 0.00000000e+00, 0.00000000e+00, 0.00000000e+00,\n",
       "        0.00000000e+00, 0.00000000e+00, 0.00000000e+00, 0.00000000e+00,\n",
       "        1.20393242e-03, 1.74677166e-02, 3.48452860e-01, 7.17985142e-02,\n",
       "        7.60066231e-02, 3.70685535e-01, 3.85631497e-02, 6.58015435e-05,\n",
       "        0.00000000e+00, 0.00000000e+00, 0.00000000e+00, 0.00000000e+00,\n",
       "        0.00000000e+00, 0.00000000e+00, 0.00000000e+00, 3.59046364e-04,\n",
       "        4.00063971e-03, 2.22682568e-02, 3.60948233e-01, 7.72604709e-02,\n",
       "        7.80279752e-02, 4.09927530e-01, 4.04998420e-02, 4.20130745e-04,\n",
       "        0.00000000e+00, 0.00000000e+00, 0.00000000e+00, 0.00000000e+00,\n",
       "        0.00000000e+00, 0.00000000e+00, 0.00000000e+00, 0.00000000e+00,\n",
       "        1.99939368e-03, 2.97004041e-02, 3.92806361e-01, 9.92725623e-02,\n",
       "        9.03874238e-02, 4.33845040e-01, 3.91887536e-02, 2.02733932e-05,\n",
       "        0.00000000e+00, 0.00000000e+00, 0.00000000e+00, 0.00000000e+00,\n",
       "        0.00000000e+00, 0.00000000e+00, 0.00000000e+00, 4.87077053e-08,\n",
       "        2.68023889e-03, 3.50367132e-02, 4.33097126e-01, 1.17474457e-01,\n",
       "        1.09497657e-01, 4.45374174e-01, 3.67251108e-02, 3.77681345e-06,\n",
       "        0.00000000e+00, 0.00000000e+00, 0.00000000e+00, 0.00000000e+00,\n",
       "        0.00000000e+00, 0.00000000e+00, 0.00000000e+00, 0.00000000e+00,\n",
       "        2.02261951e-03, 5.06918723e-02, 4.53542637e-01, 1.28410769e-01,\n",
       "        1.29692245e-01, 4.52502199e-01, 3.65703883e-02, 7.48879978e-05,\n",
       "        0.00000000e+00, 0.00000000e+00, 0.00000000e+00, 0.00000000e+00,\n",
       "        0.00000000e+00, 0.00000000e+00, 0.00000000e+00, 3.57852528e-06,\n",
       "        4.26265254e-03, 6.51373247e-02, 4.72725997e-01, 1.22436954e-01,\n",
       "        1.43236381e-01, 4.49323359e-01, 3.37730587e-02, 1.41180875e-03,\n",
       "        0.00000000e+00, 0.00000000e+00, 0.00000000e+00, 0.00000000e+00,\n",
       "        0.00000000e+00, 0.00000000e+00, 0.00000000e+00, 9.94034801e-10,\n",
       "        5.02295424e-03, 8.33546898e-02, 4.84604585e-01, 1.14485833e-01,\n",
       "        1.54821159e-01, 4.25574940e-01, 3.62605198e-02, 1.21999132e-03,\n",
       "        0.00000000e+00, 0.00000000e+00, 0.00000000e+00, 0.00000000e+00,\n",
       "        0.00000000e+00, 0.00000000e+00, 0.00000000e+00, 0.00000000e+00,\n",
       "        4.01818430e-03, 8.86659644e-02, 4.91036920e-01, 9.96542487e-02,\n",
       "        1.69511177e-01, 4.07060376e-01, 2.88130456e-02, 1.51144556e-03,\n",
       "        0.00000000e+00, 0.00000000e+00, 0.00000000e+00, 0.00000000e+00,\n",
       "        0.00000000e+00, 0.00000000e+00, 0.00000000e+00, 0.00000000e+00,\n",
       "        2.45451357e-03, 9.27403744e-02, 5.04344377e-01, 8.89608207e-02,\n",
       "        1.76123111e-01, 3.74212938e-01, 2.24924496e-02, 5.64210674e-04,\n",
       "        0.00000000e+00, 0.00000000e+00, 0.00000000e+00, 0.00000000e+00,\n",
       "        0.00000000e+00, 0.00000000e+00, 0.00000000e+00, 0.00000000e+00,\n",
       "        2.58945692e-03, 8.28323792e-02, 5.11044615e-01, 7.40670972e-02,\n",
       "        1.79444529e-01, 3.55307983e-01, 2.64188044e-02, 2.21194166e-03,\n",
       "        0.00000000e+00, 0.00000000e+00, 0.00000000e+00, 0.00000000e+00,\n",
       "        0.00000000e+00, 0.00000000e+00, 0.00000000e+00, 0.00000000e+00,\n",
       "        5.14544458e-03, 7.59346553e-02, 4.89941892e-01, 5.29226745e-02,\n",
       "        1.60151469e-01, 3.46198958e-01, 2.85586396e-02, 3.97941055e-03,\n",
       "        3.20433896e-03, 3.26281060e-03, 1.59612577e-03, 2.90665716e-05,\n",
       "        7.62712963e-05, 1.12078517e-03, 2.51213540e-03, 3.34374193e-03,\n",
       "        5.05964580e-03, 5.97081047e-02, 4.56661370e-01, 5.30879523e-02,\n",
       "        1.27240788e-01, 3.78805041e-01, 4.89794638e-02, 8.00794742e-03,\n",
       "        7.94435781e-03, 7.94435781e-03, 5.68723188e-03, 8.10544923e-04,\n",
       "        1.08135976e-03, 5.52106449e-03, 7.72889493e-03, 7.94435781e-03,\n",
       "        7.97833702e-03, 3.18699219e-02, 3.65450771e-01, 1.08708268e-01,\n",
       "        9.90988352e-02, 3.97438540e-01, 5.56411256e-02, 1.03988717e-02,\n",
       "        5.09848674e-03, 4.83404277e-03, 6.84547337e-04, 2.10337764e-06,\n",
       "        3.22961907e-06, 2.01881989e-04, 1.81544440e-03, 4.28634778e-03,\n",
       "        2.33572020e-03, 5.08815623e-03, 1.04859169e-01, 2.98469126e-01,\n",
       "        2.15403477e-01, 3.20651061e-01, 4.13332529e-02, 4.10675488e-03,\n",
       "        4.40910100e-04, 2.19582288e-04, 0.00000000e+00, 0.00000000e+00]))"
      ]
     },
     "execution_count": 5,
     "metadata": {},
     "output_type": "execute_result"
    }
   ],
   "source": [
    "learnML_class_parameters ( training_data[1] )"
   ]
  },
  {
   "cell_type": "markdown",
   "metadata": {},
   "source": [
    "## 2- Maximum de vraisemblance\n",
    "En utilisant la fonction de la question précédente, écrivez une fonction `learnML_all_parameters : float np.array np.array np.array -> (float np.array x float np.array) list` qui, étant donné le tableau `training_data` retourné par la fonction `read_file` (donc contenant toutes les images de toutes les classes), renvoie une liste de couples `( array ( [μ0,…,μ255] ), array ( [σ20,…,σ2255] ) )`. Vous exécuterez cette fonction sur vos données d'apprentissage et sauvegarderez le résultat dans une variable `parameters`."
   ]
  },
  {
   "cell_type": "code",
   "execution_count": 6,
   "metadata": {},
   "outputs": [],
   "source": [
    "def learnML_all_parameters(training_data):\n",
    "    # votre code\n",
    "    liste = []\n",
    "    for t in training_data :\n",
    "        liste.append(learnML_class_parameters(t))\n",
    "    return liste\n",
    "parameters=learnML_all_parameters(training_data)"
   ]
  },
  {
   "cell_type": "markdown",
   "metadata": {},
   "source": [
    "## 3- Log-vraisemblance d'une image\n",
    "Nous allons maintenant tester si, étant donné de nouvelles images, on peut classer celles-ci correctement, c'est-à-dire si on peut retrouver les chiffres auxquelles elles correspondent vraisemblablement. Pour cela, nous allons utiliser de nouvelles images se trouvant dans le fichier `usps_test.txt`. Ce fichier a exactement le même format que celui d'apprentissage et peut donc être lu grâce à la fonction `read_file`. En particulier, pour chaque image, nous avons le chiffre auquel elle correspond, ce qui nous permettra de vérifier que notre classifieur fonctionne correctement. Lisez-le dans la variable `test_data` en utilisant `read_file`."
   ]
  },
  {
   "cell_type": "code",
   "execution_count": 7,
   "metadata": {},
   "outputs": [],
   "source": [
    "# votre code\n",
    "test_data= read_file ( \"usps_test.txt\" )"
   ]
  },
  {
   "cell_type": "markdown",
   "metadata": {},
   "source": [
    "Écrivez une fonction `log_likelihood : float np.array x (float np.array,np.array) -> float` qui, étant donné une image (donc un tableau de 256 nombres réels) et un couple de paramètres `( array ( [μ0,…,μ255] ), array ( [σ20,…,σ2255] ) )`, renvoie la log-vraisemblance qu'aurait l'image selon cet ensemble de $μ_i$ et $σ_i$. Rappelez-vous que (en mettant $-\\frac{1}{2}$ en facteur) : \n",
    "\n",
    "$$\\log(p(x_0,\\cdots,x_{255})=\\sum_{i=0}^{255} \\log p(x_i)=-\\frac{1}{2}\\sum_{i=0}^{255} \\left[ \\log(2\\pi \\sigma^2_i) + \\frac{(x_i-\\mu_i)^2}{\\sigma_i^2} \\right]$$\n",
    "\n",
    "Notez que le module `math` contient une constante `math.pi`. \n",
    "\n",
    "**Attention**: dans la liste `parameters` calculée dans la question précédente, pour certains pixels de certaines classes, la valeur de $σ^2$ est égale à $0$ (toutes les images de la base d'apprentissage avaient exactement la même valeur sur ce pixel). Dans ce cas, la vraisemblance de toute image sur ce pixel doit être de $1$ (et donc sa log-vraisemblance doit être égale à $0$). "
   ]
  },
  {
   "cell_type": "code",
   "execution_count": 8,
   "metadata": {},
   "outputs": [
    {
     "data": {
      "text/plain": [
       "[-80.59430948100122,\n",
       " -2030714328.070799,\n",
       " -339.70961551873495,\n",
       " -373.9778527373253,\n",
       " -678.1647930831492,\n",
       " -364.62227994586954,\n",
       " -715.4508284953547,\n",
       " -344286.66839952325,\n",
       " -499.8815910714561,\n",
       " -35419.20866290251]"
      ]
     },
     "execution_count": 8,
     "metadata": {},
     "output_type": "execute_result"
    }
   ],
   "source": [
    "import math \n",
    "\n",
    "def log_likelihood(img,params):\n",
    "    # votre code\n",
    "    (mu, sigma) = params\n",
    "    s = 0\n",
    "    for i in range(256) :\n",
    "        if sigma[i] != 0 :\n",
    "            tmp1  = np.log((2 * math.pi * sigma[i]))\n",
    "            tmp3 = ((img[i] - mu[i])**2 ) / sigma[i]\n",
    "            s +=  (-1/2) *( np.log( (2 * math.pi * sigma[i]) ) +   (  ( (img[i] - mu[i])**2 ) / sigma[i] )  )\n",
    "    return s\n",
    "\n",
    "\n",
    "[ log_likelihood ( test_data[0][0], parameters[i] ) for i in range ( 10 ) ]\n",
    "    "
   ]
  },
  {
   "cell_type": "markdown",
   "metadata": {},
   "source": [
    "Soit le code :\n",
    "```\n",
    "[ log_likelihood ( test_data[0][0], parameters[i] ) for i in range ( 10 ) ]\n",
    "```\n",
    "\n",
    "Il va calculer pour toutes les classes, la log-vraisemblance de la première image de test de classe $0$. Son résultat devrait être :\n",
    "```\n",
    " [-80.594309481001218, -2030714328.0707991, -339.70961551873495, -373.97785273732529,\n",
    "  -678.16479308314922, -364.62227994586954, -715.4508284953547,  -344286.66839952325,\n",
    "  -499.88159107145611, -35419.208662902507]\n",
    "```\n",
    "\n",
    "Qu'en conclure ?"
   ]
  },
  {
   "cell_type": "markdown",
   "metadata": {},
   "source": [
    "On peut en conclure que la classe reconnue est bien celle du resultat attendue, donc 0 car c'est le maximum de vraisemblance.<br>"
   ]
  },
  {
   "cell_type": "markdown",
   "metadata": {},
   "source": [
    "## 4- Log Vraisemblance (bis)\n",
    "Écrivez une fonction `log_likelihoods : float np.array x (float np.array,np.array) list -> float np.array` qui, étant donné une image (donc un tableau de 256 nombres réels) et la liste de paramètres déterminés dans la question 3 (la variable `params`), renvoie un tableau contenant, pour chaque chiffre possible entre $0$ et $9$, la log-vraisemblance qu'aurait l'image si celle-ci correspondait à ce chiffre. Ainsi, si `tab = log_likelihoods ( image, parameters )`, `tab` est un tableau de 10 éléments (les 10 chiffres possibles) et `tab[3]` est égal à la log-vraisemblance de l'image dans la classe \"chiffre = 3\".\n",
    "\n",
    "Vous pourrez vérifier que vous obtenez les mêmes résultats que ci-dessous pour l'appel `log_likelihoods ( test_data[1][5], parameters )` : \n",
    "\n",
    "```\n",
    "array([-889.22508387,  184.03163176, -185.29589129, -265.13424326,\n",
    "        -149.54804688, -215.85994204,  -94.86965712, -255.60771575,\n",
    "        -118.95170104,  -71.5970028 ])\n",
    "```"
   ]
  },
  {
   "cell_type": "code",
   "execution_count": 9,
   "metadata": {},
   "outputs": [
    {
     "name": "stdout",
     "output_type": "stream",
     "text": [
      "[-889.225083869929, 184.03163175636334, -185.29589128666683, -265.1342432643237, -149.54804687799918, -215.85994204347998, -94.86965711889906, -255.6077157467451, -118.95170104216609, -71.59700280234314]\n"
     ]
    }
   ],
   "source": [
    "def log_likelihoods(img,allparams):\n",
    "    # votre code\n",
    "    return  [log_likelihood ( img, allparams[i] ) for i in range ( 10 ) ]\n",
    "\n",
    "\n",
    "print(log_likelihoods ( test_data[1][5], parameters ))"
   ]
  },
  {
   "cell_type": "markdown",
   "metadata": {},
   "source": [
    "## 5- Classification d'une image\n",
    "Écrire une fonction `classify_image : float np.array x (float np.array,np.array) list -> int` qui, étant donnée une image et l'ensemble de paramètres déterminés dans les questions précédentes, renvoie la classe la plus probable de l'image, c'est-à-dire celle dont la log-vraisemblance est la plus grande.\n",
    "\n",
    "Vous pourrez vérifier que vous obtenez les mêmes résultats que ci-dessous: \n",
    "\n",
    "`classify_image( test_data[1][5], parameters )`\n",
    "```\n",
    "1\n",
    "```\n",
    "\n",
    "`classify_image( test_data[4][1], parameters )`\n",
    "```\n",
    "9\n",
    "```"
   ]
  },
  {
   "cell_type": "code",
   "execution_count": 10,
   "metadata": {},
   "outputs": [
    {
     "name": "stdout",
     "output_type": "stream",
     "text": [
      "1\n",
      "9\n"
     ]
    }
   ],
   "source": [
    "def classify_image(img,params):\n",
    "    # votre code\n",
    "    \n",
    "    vs = log_likelihoods(img,params)\n",
    "    maxi = vs[0]\n",
    "    ind = 0\n",
    "    for i in range(1,10) :\n",
    "        if vs[i] > maxi :\n",
    "            maxi = vs[i]\n",
    "            ind = i\n",
    "    return ind\n",
    "\n",
    "print(classify_image( test_data[1][5], parameters ))\n",
    "print(classify_image( test_data[4][1], parameters ))"
   ]
  },
  {
   "cell_type": "markdown",
   "metadata": {},
   "source": [
    "# Partie optionnelle\n",
    "## 6- Classification de toutes les images\n",
    "Écrire une fonction `classify_all_images : float np.array np.array np.array x (np.array,np.array) list -> float np.2D-array` qui, étant donné le tableau `test_data` des images du fichiers `usps_test.txt` tel que retourné par la fonction `read_fie` et l'ensemble de paramètres déterminés dans les questions précédentes, renvoie un tableau numpy bi-dimensionne `T `de taille 10x10 tel que `T[i,j]` représente le pourcentage d'images correspondant dans la réalité au chiffre $i$ que votre classifieur a classées dans la classe $j$ ($\\forall i, \\sum^9_{j=0} T[i,j] = 1.0$).\n",
    "\n",
    "Vous pourrez vérifier que:\n",
    "```\n",
    "    T[0,0] = 0.84958217\n",
    "    T[2,3] = 0.040404040404040407\n",
    "    T[5,3] = 0.050000000000000003 \n",
    "```"
   ]
  },
  {
   "cell_type": "code",
   "execution_count": 15,
   "metadata": {},
   "outputs": [
    {
     "name": "stdout",
     "output_type": "stream",
     "text": [
      "[359, 264, 198, 166, 200, 160, 170, 147, 166, 177]\n"
     ]
    }
   ],
   "source": [
    "def classify_all_images(data,params):\n",
    "    # votre code\n",
    "    T = np.zeros((10,10))\n",
    "    t = [len(test_data[i]) for i in range(len(test_data)) ]\n",
    "    \n",
    "    for i in range(len(data)):\n",
    "        for j in range(len(data[i])) :\n",
    "            prediction = classify_image(data[i][j],parameters)\n",
    "            T[i, prediction] += 1\n",
    "    for i in range(10) :\n",
    "        for j in range(10) :\n",
    "            T[i, j] /= t[i]\n",
    "    return T\n",
    "\n",
    "T = classify_all_images(test_data,parameters)"
   ]
  },
  {
   "cell_type": "code",
   "execution_count": 16,
   "metadata": {},
   "outputs": [
    {
     "name": "stdout",
     "output_type": "stream",
     "text": [
      "0.8495821727019499\n",
      "0.04040404040404041\n",
      "0.05\n"
     ]
    }
   ],
   "source": [
    "print(T[0,0])\n",
    "print(T[2,3])\n",
    "print(T[5,3])"
   ]
  },
  {
   "cell_type": "markdown",
   "metadata": {},
   "source": [
    "## 7-Affichage du résultat des classifications\n",
    "Afin de visualiser les résultats obtenus par votre classifieur, ex&cuter la fonction suivante, qui prend en paramètres le tableau obtenu à la question précédente. \n",
    "\n",
    "Si votre classifieur est performant, vous devriez observer des pics sur la diagonale.\n",
    "\n",
    "<img src=\"tme3_classified.jpg\" title=\"résultats de classification\">"
   ]
  },
  {
   "cell_type": "code",
   "execution_count": 18,
   "metadata": {},
   "outputs": [
    {
     "data": {
      "image/png": "[encoded data removed]",
      "text/plain": [
       "<Figure size 432x288 with 1 Axes>"
      ]
     },
     "metadata": {
      "needs_background": "light"
     },
     "output_type": "display_data"
    }
   ],
   "source": [
    "from mpl_toolkits.mplot3d import Axes3D\n",
    "\n",
    "def dessine ( classified_matrix ):\n",
    "    fig = plt.figure()\n",
    "    ax = fig.add_subplot(111, projection='3d')\n",
    "    x = y = np.linspace ( 0, 9, 10 )\n",
    "    X, Y = np.meshgrid(x, y)\n",
    "    ax.plot_surface(X, Y, classified_matrix, rstride = 1, cstride=1 )\n",
    "    \n",
    "dessine(T)"
   ]
  },
  {
   "cell_type": "code",
   "execution_count": 21,
   "metadata": {},
   "outputs": [
    {
     "data": {
      "image/png": "[encoded data removed]",
      "text/plain": [
       "<Figure size 432x288 with 1 Axes>"
      ]
     },
     "metadata": {
      "needs_background": "light"
     },
     "output_type": "display_data"
    }
   ],
   "source": [
    "plt.imshow(T)\n",
    "plt.show()"
   ]
  },
  {
   "cell_type": "markdown",
   "metadata": {},
   "source": [
    "## 8- Classification versus génération\n",
    "Les paramètres calculés spécifient complètement le modèle pour chacune des classs. Générer aléatoirement une série de $3$ images pour chaque classe de $0$ à $9$ (donc 30 images). Comparer leurs log-vraisemblances dans leurs classes par rapport à celles des 'vraies' images (également dans leurs classes).\n",
    "\n",
    "Qu'en concluez-vous ?"
   ]
  },
  {
   "cell_type": "code",
   "execution_count": 33,
   "metadata": {},
   "outputs": [
    {
     "name": "stdout",
     "output_type": "stream",
     "text": [
      "[array([ 19, 155, 205]), array([124,  75, 226]), array([124,  57, 108]), array([ 6, 90, 97]), array([ 54,  12, 187]), array([123,  10,  88]), array([139,   6,  65]), array([97, 29, 92]), array([ 98, 107, 129]), array([107, 133, 154])] \n",
      "\n",
      "\n",
      "[[-80.59430948100122, -83.32530457340673, -82.06312705100349], [41.125880818304914, 177.62283564550785, 132.33230422887232], [-185.8724623748432, -218.15566855160247, -166.0589959235119], [-99.37951120986119, -133.1340768294377, -167.7434072077533], [-261.84295900194707, -148.48670661098458, -118.85360001741672], [-278.6844552204638, -564.528717046177, -214.1616766779931], [-290.32015572169485, -780.6836035472672, -336.8045732325461], [18.611134620929036, 16.78315946754705, -15.84095592304542], [-141.34117541618474, -2735.421139678362, -297.4601117029494], [-25.154430424347137, 12.092920073111351, -192.2339348857713]] \n",
      "\n",
      "\n",
      "[-81.99424703513715, 117.0270068975617, -190.0290422833192, -133.41899841568406, -176.3944218767828, -352.45828298154464, -469.2694441671694, 6.517779388476889, -1058.074142265832, -68.43181507900236] \n",
      "\n",
      "\n",
      "[0.06406685236768803, 0.8295454545454546, 0.5, 0.5180722891566265, 0.705, 0.89375, 0.9411764705882353, 0.2653061224489796, 0.9457831325301205, 0.8248587570621468]\n"
     ]
    }
   ],
   "source": [
    "tab_alea = [np.random.randint(len(test_data[i]), size=3) for i in range(10) ]\n",
    "print(tab_alea,'\\n\\n')\n",
    "\n",
    "log = []\n",
    "for i in range(10) :\n",
    "    t = []\n",
    "    for j in range(3) :\n",
    "        t.append(log_likelihoods ( test_data[i][j], parameters )[i])\n",
    "    log.append(t)\n",
    "print(log, '\\n\\n')\n",
    "\n",
    "#On fait la moyenne de la log-vraisemblance par classe pour notre échantillon\n",
    "moy_log = [np.sum(log[i])/3 for i in range(10)]\n",
    "print(moy_log, '\\n\\n')\n",
    "\n",
    "#On regarde pour chaque classe le pourcentage des images différentes de notre échantillon pour qui \n",
    "#la logvraisemblance est supérieure à celle la moyenne de notre échantillon\n",
    "\n",
    "sup_moy = []\n",
    "for i in range(10) :\n",
    "    s= 0\n",
    "    for j in range(len(test_data[i])) :\n",
    "        if j not in tab_alea[i] :\n",
    "            if log_likelihoods ( test_data[i][j], parameters )[i] > moy_log[i] :\n",
    "                s+=1\n",
    "    sup_moy.append(s*1.0 / len(test_data[i]))\n",
    "print(sup_moy)\n",
    "    "
   ]
  },
  {
   "cell_type": "markdown",
   "metadata": {},
   "source": [
    "On peut en conclure que pour chaque classe, la plupart du temps les 'vraies images' ont une meilleure vraisemblance dans leur classe que pour notre échantillon, mise à part pour la classe 7. <br>"
   ]
  }
 ],
 "metadata": {
  "kernelspec": {
   "display_name": "Python 3",
   "language": "python",
   "name": "python3"
  },
  "language_info": {
   "codemirror_mode": {
    "name": "ipython",
    "version": 3
   },
   "file_extension": ".py",
   "mimetype": "text/x-python",
   "name": "python",
   "nbconvert_exporter": "python",
   "pygments_lexer": "ipython3",
   "version": "3.7.1"
  }
 },
 "nbformat": 4,
 "nbformat_minor": 4
}
